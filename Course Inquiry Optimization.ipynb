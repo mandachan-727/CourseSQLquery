{
 "cells": [
  {
   "cell_type": "markdown",
   "metadata": {},
   "source": [
    "# Database Systems and Data Management for Data Analytics\n"
   ]
  },
  {
   "cell_type": "markdown",
   "metadata": {},
   "source": [
    "# OPTIMIZATION OF COURSES INQUIRY VIA SQL"
   ]
  },
  {
   "cell_type": "code",
   "execution_count": null,
   "metadata": {},
   "outputs": [],
   "source": [
    "%load_ext sql"
   ]
  },
  {
   "cell_type": "code",
   "execution_count": null,
   "metadata": {},
   "outputs": [],
   "source": [
    "%sql sqlite:///school.db"
   ]
  },
  {
   "cell_type": "markdown",
   "metadata": {},
   "source": [
    "### Obtaining department chairs "
   ]
  },
  {
   "cell_type": "code",
   "execution_count": null,
   "metadata": {},
   "outputs": [],
   "source": [
    "%%sql\n",
    "\n",
    "SELECT departmentname, instructorlast, instructorfirst\n",
    "FROM departments INNER JOIN instructors \n",
    "ON departments.departmentchair = instructors.instructorid\n",
    "WHERE departments.departmentid IN ('LANG', 'PHIL','MATH')"
   ]
  },
  {
   "cell_type": "markdown",
   "metadata": {},
   "source": [
    "### Obtaining student's name by major"
   ]
  },
  {
   "cell_type": "code",
   "execution_count": null,
   "metadata": {},
   "outputs": [],
   "source": [
    "%%sql\n",
    "\n",
    "SELECT studentlast, studentfirst, subjectname\n",
    "FROM students INNER JOIN subjects \n",
    "ON studentmajor = subjectid\n",
    "WHERE studentmajor = 'MATH'\n",
    "ORDER BY studentlast, studentfirst\n",
    "LIMIT 6"
   ]
  },
  {
   "cell_type": "markdown",
   "metadata": {},
   "source": [
    "### Obtaining students' information by course"
   ]
  },
  {
   "cell_type": "code",
   "execution_count": null,
   "metadata": {},
   "outputs": [],
   "source": [
    "%%sql\n",
    "\n",
    "SELECT studentlast, studentfirst\n",
    "FROM students INNER JOIN student_class\n",
    "USING (studentid)\n",
    "WHERE classid = 40326\n",
    "ORDER BY studentlast,studentfirst\n",
    "limit 6"
   ]
  },
  {
   "cell_type": "markdown",
   "metadata": {},
   "source": [
    "### Obtaining active instructors within a semester"
   ]
  },
  {
   "cell_type": "code",
   "execution_count": null,
   "metadata": {},
   "outputs": [],
   "source": [
    "%%sql\n",
    "\n",
    "SELECT DISTINCT instructorlast, instructorfirst\n",
    "FROM classes INNER JOIN instructor_class USING (classid)\n",
    "INNER JOIN instructors USING (instructorid)\n",
    "WHERE classterm ='SPRING'\n",
    "ORDER BY instructorlast, instructorfirst\n",
    "LIMIT 10"
   ]
  },
  {
   "cell_type": "markdown",
   "metadata": {},
   "source": [
    "### Obtaining inactive courses"
   ]
  },
  {
   "cell_type": "code",
   "execution_count": null,
   "metadata": {},
   "outputs": [],
   "source": [
    "%%sql\n",
    "\n",
    "SELECT coursesubject, coursenum \n",
    "FROM courses \n",
    "LEFT JOIN classes USING (coursesubject, coursenum)\n",
    "WHERE classid IS NULL\n",
    "ORDER BY coursesubject\n",
    "LIMIT 6"
   ]
  },
  {
   "cell_type": "markdown",
   "metadata": {},
   "source": [
    "### Obtaining courses information within a discipline"
   ]
  },
  {
   "cell_type": "code",
   "execution_count": null,
   "metadata": {},
   "outputs": [],
   "source": [
    "%%sql\n",
    "\n",
    "SELECT coursesubject, coursenum, coursetitle\n",
    "FROM courses\n",
    "LEFT JOIN classes USING (coursesubject, coursenum)\n",
    "WHERE classid IS NULL AND coursesubject = 'ENGL'"
   ]
  },
  {
   "cell_type": "markdown",
   "metadata": {},
   "source": [
    "### Obtaining instructors and their student count"
   ]
  },
  {
   "cell_type": "code",
   "execution_count": null,
   "metadata": {},
   "outputs": [],
   "source": [
    "%%sql\n",
    "\n",
    "SELECT  instructorfirst, instructorlast, COUNT(studentid) AS total_taught \n",
    "FROM instructors \n",
    "INNER JOIN instructor_class USING (instructorid)\n",
    "INNER JOIN student_class USING (classid)\n",
    "GROUP BY instructorid\n",
    "ORDER BY count(studentid) ASC\n",
    "LIMIT 10"
   ]
  },
  {
   "cell_type": "markdown",
   "metadata": {},
   "source": [
    "### Investigating outlying case: an instructor with only 4 students??"
   ]
  },
  {
   "cell_type": "code",
   "execution_count": null,
   "metadata": {},
   "outputs": [],
   "source": [
    "%%sql\n",
    "\n",
    "SELECT courses.coursesubject, courses.coursenum, courses.coursetitle, studentid\n",
    "FROM instructors \n",
    "INNER JOIN instructor_class USING (instructorid)\n",
    "INNER JOIN student_class USING (classid)\n",
    "INNER JOIN classes USING (classid)\n",
    "INNER JOIN courses USING (coursesubject, coursenum)\n",
    "WHERE instructorfirst = 'Kyle' AND instructorlast= 'Stevens'"
   ]
  }
 ],
 "metadata": {
  "celltoolbar": "Raw Cell Format",
  "kernelspec": {
   "display_name": "Python 3 (ipykernel)",
   "language": "python",
   "name": "python3"
  },
  "language_info": {
   "codemirror_mode": {
    "name": "ipython",
    "version": 3
   },
   "file_extension": ".py",
   "mimetype": "text/x-python",
   "name": "python",
   "nbconvert_exporter": "python",
   "pygments_lexer": "ipython3",
   "version": "3.9.12"
  }
 },
 "nbformat": 4,
 "nbformat_minor": 2
}
